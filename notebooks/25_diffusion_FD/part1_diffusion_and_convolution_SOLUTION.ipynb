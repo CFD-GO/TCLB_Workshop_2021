{
 "cells": [
  {
   "cell_type": "code",
   "execution_count": 41,
   "metadata": {},
   "outputs": [],
   "source": [
    "import timeit\n",
    "import numpy as np\n",
    "import matplotlib.pyplot as plt   #and the useful plotting library\n",
    "from numba import jit"
   ]
  },
  {
   "cell_type": "markdown",
   "metadata": {},
   "source": [
    "# Diffusion part 1: the fundamental solution"
   ]
  },
  {
   "cell_type": "markdown",
   "metadata": {},
   "source": [
    "The one-dimensional diffusion equation is:\n",
    "\n",
    "$$\\frac{\\partial u}{\\partial t}= \\nu \\frac{\\partial^2 u}{\\partial x^2}$$\n",
    "\n",
    "The first thing you should notice is that —unlike the previous two simple equations we have studied— this equation has a second-order derivative. We first need to learn what to do with it!"
   ]
  },
  {
   "cell_type": "markdown",
   "metadata": {},
   "source": [
    "## Discretizing $\\frac{\\partial ^2 u}{\\partial x^2}$"
   ]
  },
  {
   "cell_type": "markdown",
   "metadata": {},
   "source": [
    "The second-order derivative can be represented geometrically as the line tangent to the curve given by the first derivative.  We will discretize the second-order derivative with a Central Difference scheme: a combination of Forward Difference and Backward Difference of the first derivative.  Consider the Taylor expansion of $u_{i+1}$ and $u_{i-1}$ around $u_i$:\n",
    "\n",
    "$u_{i+1} = u_i + \\Delta x \\frac{\\partial u}{\\partial x}\\bigg|_i + \\frac{\\Delta x^2}{2} \\frac{\\partial ^2 u}{\\partial x^2}\\bigg|_i + \\frac{\\Delta x^3}{3!} \\frac{\\partial ^3 u}{\\partial x^3}\\bigg|_i + O(\\Delta x^4)$\n",
    "\n",
    "$u_{i-1} = u_i - \\Delta x \\frac{\\partial u}{\\partial x}\\bigg|_i + \\frac{\\Delta x^2}{2} \\frac{\\partial ^2 u}{\\partial x^2}\\bigg|_i - \\frac{\\Delta x^3}{3!} \\frac{\\partial ^3 u}{\\partial x^3}\\bigg|_i + O(\\Delta x^4)$\n",
    "\n",
    "If we add these two expansions, you can see that the odd-numbered derivative terms will cancel each other out.  If we neglect any terms of $O(\\Delta x^4)$ or higher (and really, those are very small), then we can rearrange the sum of these two expansions to solve for our second-derivative.  \n"
   ]
  },
  {
   "cell_type": "markdown",
   "metadata": {},
   "source": [
    "$u_{i+1} + u_{i-1} = 2u_i+\\Delta x^2 \\frac{\\partial ^2 u}{\\partial x^2}\\bigg|_i + O(\\Delta x^4)$\n",
    "\n",
    "Then rearrange to solve for $\\frac{\\partial ^2 u}{\\partial x^2}\\bigg|_i$ and the result is:\n",
    "\n",
    "$$\\frac{\\partial ^2 u}{\\partial x^2}=\\frac{u_{i+1}-2u_{i}+u_{i-1}}{\\Delta x^2} + O(\\Delta x^4)$$\n"
   ]
  },
  {
   "cell_type": "markdown",
   "metadata": {},
   "source": [
    "## Discretizing both $\\frac{\\partial u}{\\partial t}$ and $\\frac{\\partial ^2 u}{\\partial x^2}$"
   ]
  },
  {
   "cell_type": "markdown",
   "metadata": {},
   "source": [
    "We can now write the discretized version of the diffusion equation in 1D:\n",
    "\n",
    "$$\\frac{u_{i}^{n+1}-u_{i}^{n}}{\\Delta t}=\\nu\\frac{u_{i+1}^{n}-2u_{i}^{n}+u_{i-1}^{n}}{\\Delta x^2}$$\n",
    "\n",
    "As before, we notice that once we have an initial condition, the only unknown is $u_{i}^{n+1}$, so we re-arrange the equation solving for our unknown:\n",
    "\n",
    "$$u_{i}^{n+1}=u_{i}^{n}+\\underbrace{\\frac{\\nu\\Delta t}{\\Delta x^2}}_{\\beta}(u_{i+1}^{n}-2u_{i}^{n}+u_{i-1}^{n})$$\n",
    "\n",
    "\n",
    "$$u_{i}^{n+1}=\\beta u_{i-1}^{n} + u_{i}^{n}(1- 2 \\beta) +\\beta u_{i+1}^{n}$$\n",
    "\n",
    "The above discrete equation allows us to write a program to advance a solution in time. \n",
    "But we need an initial condition. \n",
    "Let's continue using our favorite: the hat function. \n",
    "So, at $t=0$, $u=1$ in the interval $0.25\\le x\\le 0.5$ and $u=0$ everywhere else. \n",
    "We are ready to number-crunch!"
   ]
  },
  {
   "cell_type": "code",
   "execution_count": 42,
   "metadata": {},
   "outputs": [
    {
     "data": {
      "text/plain": [
       "[<matplotlib.lines.Line2D object at 0x7f870cdabc70>]"
      ]
     },
     "execution_count": 42,
     "metadata": {},
     "output_type": "execute_result"
    }
   ],
   "source": [
    "nx = 128\n",
    "domain_length = 64\n",
    "dx = domain_length / (nx-1)\n",
    "xspace = np.linspace(0, domain_length, nx)\n",
    "\n",
    "nt = 200                # the number of timesteps we want to calculate\n",
    "nu = 5                  # the value of viscosity\n",
    "sigma = .2              # sigma is a parameter, we'll learn more about it later\n",
    "dt = sigma * dx**2 / nu # dt is defined using sigma ... more later!\n",
    "\n",
    "u_IC = 0*np.ones(nx)            # numpy function ones()\n",
    "u_IC[int(nx/4):int(nx/2)] = 1   # setting u = 1 between 0.25 and 0.5 as per our I.C.s\n",
    "\n",
    "plt.plot(xspace, u_IC)"
   ]
  },
  {
   "cell_type": "code",
   "execution_count": 43,
   "metadata": {
    "collapsed": false,
    "jupyter": {
     "outputs_hidden": false
    }
   },
   "outputs": [
    {
     "name": "stdout",
     "output_type": "stream",
     "text": [
      "The time difference is : 0.0007448280084645376\n"
     ]
    },
    {
     "data": {
      "text/plain": [
       "[<matplotlib.lines.Line2D object at 0x7f870d0a23d0>]"
      ]
     },
     "execution_count": 43,
     "metadata": {},
     "output_type": "execute_result"
    }
   ],
   "source": [
    "def calc_diffusion_FD_btcs_naive(IC,nx,nt,nu,dt):\n",
    "    # backward time, central space\n",
    "    u = IC.copy()\n",
    "    un = IC.copy() #our placeholder array, un, to advance the solution in time\n",
    "    beta = nu * dt / dx**2\n",
    "    \n",
    "    for n in range(nt):  #iterate through time\n",
    "        un = u.copy() #copy the existing values of u into un\n",
    "        for i in range(0, nx):\n",
    "            # this is slow (index operations & branching)\n",
    "            if i == nx-1:\n",
    "                u[i] = beta*un[i-1]+ (1-2*beta)*un[i] + beta*un[0] # periodic BC\n",
    "            else:\n",
    "                u[i] = beta*un[i-1]+ (1-2*beta)*un[i] + beta*un[i+1]\n",
    "    return u\n",
    "\n",
    "\n",
    "# @jit(nopython=True)\n",
    "# @jit(nopython=True, parallel=True)\n",
    "def calc_diffusion_FD_btcs(IC,nx,nt,nu,dt):\n",
    "    # backward time, central space\n",
    "    u = IC.copy()\n",
    "    un = IC.copy() #our placeholder array, un, to advance the solution in time\n",
    "    beta = nu * dt / dx**2\n",
    "\n",
    "    c_ind = np.arange(0, nx)\n",
    "    l_ind = np.roll(c_ind, -1)\n",
    "    r_ind = np.roll(c_ind, 1)\n",
    "    \n",
    "    for n in range(nt):  #iterate through time\n",
    "        un = u.copy() # copy the existing values of u into un\n",
    "        \n",
    "        lap_u = un[l_ind] - 2 * un[c_ind] + un[r_ind]  # periodic BC\n",
    "        u = un + beta* lap_u\n",
    "    return u\n",
    "\n",
    "\n",
    "starttime = timeit.default_timer()\n",
    "u_FD = calc_diffusion_FD_btcs(u_IC,nx,nt,nu,dt)\n",
    "# u_FD = calc_diffusion_FD_btcs_naive(u_IC,nx,nt,nu,dt)\n",
    "print(\"The time difference is :\", timeit.default_timer() - starttime)\n",
    "plt.plot(xspace, u_FD)"
   ]
  },
  {
   "cell_type": "markdown",
   "metadata": {},
   "source": [
    "## The convolution - part I \n",
    "\n",
    "<https://numpy.org/doc/stable/reference/generated/numpy.convolve.html>\n",
    "\n",
    "<https://en.wikipedia.org/wiki/Convolution>\n",
    "\n",
    "The discrete convolution operation is known as:\n",
    "\n",
    "$$ \n",
    "(a \\star v)[n]= \\sum^{\\infty}_{m=-\\infty} a[m]v[n-m]\n",
    "$$\n",
    "\n",
    "\n",
    "Notice, that single step of the explicit algorithm implemented before can be expressed as convolution with a $[\\beta,1-2 \\beta,\\beta]$ filter.\n",
    "To compute more time steps, one have to convolve many times. \n",
    "\n",
    "### Task\n",
    "\n",
    "Solve the diffusion equation by convolving the initial condition with the filter in each iteration.\n"
   ]
  },
  {
   "cell_type": "code",
   "execution_count": 44,
   "metadata": {},
   "outputs": [
    {
     "data": {
      "text/plain": [
       "[<matplotlib.lines.Line2D object at 0x7f8707c8c040>]"
      ]
     },
     "execution_count": 44,
     "metadata": {},
     "output_type": "execute_result"
    }
   ],
   "source": [
    "def calc_diffusion_iterate_convolutions(IC,nx,nt,nu,dt):\n",
    "    u = IC.copy()\n",
    "    un = IC.copy() # our placeholder array, un, to advance the solution in time\n",
    "    beta = nu * dt / dx**2\n",
    "    filtr = np.array([beta,1-2*beta,beta])\n",
    "    for n in range(nt):  # iterate through time\n",
    "        un = u.copy()    # copy the existing values of u into un\n",
    "        u = np.convolve(filtr,un, 'same')\n",
    "    return u\n",
    "\n",
    "u_iter_conv = calc_diffusion_iterate_convolutions(u_IC,nx,nt,nu,dt)\n",
    "plt.plot(xspace, u_iter_conv)"
   ]
  },
  {
   "cell_type": "markdown",
   "metadata": {},
   "source": [
    "## The convolution - part II\n",
    "\n",
    "The fundamental solution of the heat equation is the Gaussian function (impulse responce).\n",
    "\n",
    "Consider \"diffusion\" of a single particle. \n",
    "The probability of finding a particle after T time steps follows the normal (a.k.a Gaussian) distribution.\n",
    "To compute it, one can convolve the initial position with a Gaussian. \n",
    "The result will be equivalent with repeated convolutions with small filter.\n",
    "\n",
    "This means that convolving with a Gaussian tells us the solution to the diffusion equation after\n",
    "a fixed amount of time. This is the same as low pass filtering an image. So smoothing, low pass\n",
    "filtering, diffusion, all mean the same thing.\n",
    "\n",
    "\n",
    "### Task\n",
    "\n",
    "Solve the diffusion equation by convolving the initial condition with the Gaussian.\n",
    "\n"
   ]
  },
  {
   "cell_type": "code",
   "execution_count": 45,
   "metadata": {},
   "outputs": [
    {
     "data": {
      "text/plain": [
       "[<matplotlib.lines.Line2D object at 0x7f870766c820>]"
      ]
     },
     "execution_count": 45,
     "metadata": {},
     "output_type": "execute_result"
    }
   ],
   "source": [
    "def calc_diffusion_single_convolution(IC,x,nt,nu,dt):\n",
    "    u = IC.copy()\n",
    "    def get_gaussian(x, alfa, t):\n",
    "        g = -(x-domain_length/2.)**2\n",
    "        g /=(4*alfa*t)\n",
    "        g = np.exp(g)\n",
    "        g /= np.sqrt(4*np.pi*alfa*t)\n",
    "        g *= domain_length/(nx-1) # normalize --> sum(g)=1\n",
    "        return g\n",
    "    \n",
    "    \n",
    "    time_spot = dt*nt\n",
    "    fundamental_solution = get_gaussian(x, nu, time_spot)\n",
    "    \n",
    "    u = np.convolve(fundamental_solution, u, 'same')\n",
    "    # plt.plot(x, fundamental_solution, marker='v', linestyle=\"\", markevery=5)\n",
    "    return u, fundamental_solution\n",
    "\n",
    "u_single_conv, fs = calc_diffusion_single_convolution(u_IC,xspace,nt,nu,dt)\n",
    "plt.plot(xspace, u_single_conv)\n"
   ]
  },
  {
   "cell_type": "code",
   "execution_count": 46,
   "metadata": {},
   "outputs": [
    {
     "data": {
      "text/plain": [
       "<matplotlib.legend.Legend object at 0x7f87071f7100>"
      ]
     },
     "execution_count": 46,
     "metadata": {},
     "output_type": "execute_result"
    }
   ],
   "source": [
    "# Now plot the solutions obtained using 3 different approaches on the same plot\n",
    "\n",
    "plt.rcParams.update({'font.size': 16})\n",
    "figure, axis = plt.subplots(1, 1, figsize=(10, 8))\n",
    "plt.subplots_adjust(hspace=1)\n",
    "axis.set_title('Diffusion')\n",
    "axis.plot(xspace, u_FD, label=r'$u_{FD}$', linewidth=\"3\")\n",
    "axis.plot(xspace, u_iter_conv, label=r'$u_{multiple \\; convolutions}$',  marker='o', linestyle=\"\", markevery=1)\n",
    "axis.plot(xspace, u_single_conv, label=r'$u_{convolution}$', marker='x', linestyle=\"\", markevery=1)\n",
    "axis.set_xlabel('x')\n",
    "axis.set_ylabel('Concentration')\n",
    "axis.legend(loc=\"upper right\")"
   ]
  },
  {
   "cell_type": "markdown",
   "metadata": {},
   "source": [
    "## Analytical solution: Advection - Diffusion of a Gaussian Hill\n",
    "\n",
    "In case of an isotropic diffusion, the analytical solution describing evolution of a Gaussian Hill can be expressed as \n",
    "\n",
    "$$\n",
    "C(\\boldsymbol{x}, t)=\\frac{\\left(2\\pi\\sigma_{0}^{2}\\right)^{D/2} }{\\left(2\\pi(\\sigma_{0}^{2} + 2 k t)\\right)^{D/2}} \n",
    "C_0 \\exp \\left(-\\frac{\\left(\\boldsymbol{x}-\\boldsymbol{x}_{0}-\\boldsymbol{u} t\\right)^{2}}{2\\left(\\sigma_{0}^{2}+ 2 k t\\right)}\\right)\n",
    "$$\n",
    "\n",
    "where:\n",
    "\n",
    "* $C_0$ - initial concentration,\n",
    "* $D$ - number of dimensions, \n",
    "* $t$ - time, \n",
    "* $k$ - conductivity, \n",
    "* $\\boldsymbol{u}$ - velocity of advection\n",
    "* $\\sigma_{0}$ the initial variance of the distribution.\n",
    "\n",
    "## Task\n",
    "\n",
    "1) Implement the `GaussianHillAnal` class. \n",
    "It shall have a method `get_concentration_ND(self, X, t)`, which will return the concentration at given time and space.\n",
    "\n",
    "2) Benchmark the FD code against analytical solution."
   ]
  },
  {
   "cell_type": "code",
   "execution_count": 47,
   "metadata": {},
   "outputs": [],
   "source": [
    "from sympy.matrices import Matrix\n",
    "import sympy as sp\n",
    "\n",
    "class GaussianHillAnal:\n",
    "    def __init__(self, C0, X0, Sigma2_0, k, U, D):\n",
    "        \"\"\"\n",
    "        :param C0: initial concentration\n",
    "        :param X0: initial position of the hill's centre = Matrix([x0, y0])\n",
    "        :param U:  velocity = Matrix([ux, uy])\n",
    "        :param Sigma2_0: initial width of the Gaussian Hill\n",
    "        :param k: conductivity\n",
    "        :param dimenions: number of dimensions\n",
    "        \"\"\"\n",
    "        self.C0 = C0\n",
    "        self.X0 = X0\n",
    "        self.U = U\n",
    "        self.Sigma2_0 = Sigma2_0\n",
    "        self.k = k\n",
    "        self.dim = D\n",
    "\n",
    "    def get_concentration_ND(self, X, t):\n",
    "        decay = 2.*self.k*t\n",
    "        L = X - self.X0 - self.U*t\n",
    "        C = self.C0\n",
    "        C *= pow(2. * np.pi * self.Sigma2_0, self.dim / 2.)\n",
    "        C /= pow(2. * np.pi * (self.Sigma2_0 + decay), self.dim / 2.)\n",
    "        C *= sp.exp(-(L.dot(L)) / (2.*(self.Sigma2_0 + decay)))\n",
    "        return C\n",
    "\n"
   ]
  },
  {
   "cell_type": "code",
   "execution_count": 48,
   "metadata": {},
   "outputs": [
    {
     "data": {
      "text/plain": [
       "<matplotlib.legend.Legend object at 0x7f8706acec70>"
      ]
     },
     "execution_count": 48,
     "metadata": {},
     "output_type": "execute_result"
    }
   ],
   "source": [
    "time_0    = dt*nt/2     # initial contidion for FD\n",
    "time_spot = dt*nt       # time to be simulated (by FD and analytically)\n",
    "\n",
    "X0 = Matrix([domain_length/2.]) # center of the hill\n",
    "C0 = 1.                 # concentration\n",
    "variance = 30           # initial variance\n",
    "reference_level = 0     \n",
    "\n",
    "T_0 = np.zeros(nx)\n",
    "T_anal = np.zeros(nx)\n",
    "\n",
    "gha = GaussianHillAnal(C0, X0, variance, nu, Matrix([0]), D=1)\n",
    "\n",
    "for i in range(nx):\n",
    "    T_0[i] = reference_level + gha.get_concentration_ND(Matrix([xspace[i]]), time_0)  \n",
    "    T_anal[i] = reference_level + gha.get_concentration_ND(Matrix([xspace[i]]), time_spot)  \n",
    "\n",
    "T_FD = calc_diffusion_FD_btcs(T_0,nx,nt,nu,dt)\n",
    "T_single_conv, fs = calc_diffusion_single_convolution(T_0,xspace,nt,nu,dt)\n",
    "\n",
    "plt.rcParams.update({'font.size': 16})\n",
    "figure, axis = plt.subplots(1, 1, figsize=(8, 6))\n",
    "plt.subplots_adjust(hspace=1)\n",
    "axis.set_title('Diffusion of a Gaussian Hill')\n",
    "axis.plot(xspace, T_0, label=r'$T_{0}$')\n",
    "axis.plot(xspace, T_anal, label=r'$T_{anal}$')\n",
    "axis.plot(xspace, T_FD, label=r'$T_{FD}$', marker='x', linestyle=\"\", markevery=1)\n",
    "axis.plot(xspace, T_single_conv, label=r'$T_{conv}$', marker='v', linestyle=\"\", markevery=1)\n",
    "axis.set_xlabel('x')\n",
    "axis.set_ylabel('Concentration')\n",
    "axis.legend(loc=\"upper right\")\n"
   ]
  },
  {
   "cell_type": "markdown",
   "metadata": {},
   "source": [
    "## Questions:\n",
    "\n",
    "* How do you find the FD solution compared to analytical one? Experiment with different dx, dt.\n",
    "\n",
    "* How would you asses that your mesh is fine enought in a real CFD simulation (without analytical solution)? "
   ]
  },
  {
   "cell_type": "markdown",
   "metadata": {},
   "source": [
    "## Answers\n",
    "\n",
    "* Mesh convergence study"
   ]
  },
  {
   "cell_type": "markdown",
   "metadata": {},
   "source": [
    "# Learn More\n",
    "\n",
    "## Inspiration\n",
    "\n",
    "<http://www.cs.umd.edu/~djacobs/CMSC828seg/Diffusion.pdf>\n",
    "\n",
    "<https://web.math.ucsb.edu/~helena/teaching/math124b/heat.pdf>\n",
    "\n",
    "\n",
    "Some of the text has been inspired by the **12 steps to Navier–Stokes**, the practical module taught in the interactive CFD class of [Prof. Lorena Barba](http://lorenabarba.com). (provided under a Creative Commons Attribution license, CC-BY.  All code is made available under the FSF-approved BSD-3 license.  (c) Lorena A. Barba, Gilbert F. Forsyth 2017. Thanks to NSF for support via CAREER award #1149784.\n",
    "[@LorenaABarba](https://twitter.com/LorenaABarba))\n",
    "\n",
    "For a careful walk-through of the discretization of the diffusion equation with finite differences (and all steps from 1 to 4), watch **Video Lesson 4** by Prof. Barba on YouTube.\n"
   ]
  },
  {
   "cell_type": "code",
   "execution_count": 49,
   "metadata": {
    "collapsed": false,
    "jupyter": {
     "outputs_hidden": false
    }
   },
   "outputs": [
    {
     "data": {
      "image/jpeg": "[encoded data removed]",
      "text/html": [
       "\n",
       "        <iframe\n",
       "            width=\"400\"\n",
       "            height=\"300\"\n",
       "            src=\"https://www.youtube.com/embed/y2WaK7_iMRI\"\n",
       "            frameborder=\"0\"\n",
       "            allowfullscreen\n",
       "            \n",
       "        ></iframe>\n",
       "        "
      ],
      "text/plain": [
       "<IPython.lib.display.YouTubeVideo object at 0x7f870cdb58e0>"
      ]
     },
     "execution_count": 49,
     "metadata": {},
     "output_type": "execute_result"
    }
   ],
   "source": [
    "from IPython.display import YouTubeVideo\n",
    "YouTubeVideo('y2WaK7_iMRI')"
   ]
  }
 ],
 "metadata": {
  "interpreter": {
   "hash": "f8a2746d3ab3426f08e2132a9e8ad3a7daf862104ae8de960108f6fdcdfbaacf"
  },
  "kernelspec": {
   "display_name": "Python 3",
   "language": "python",
   "name": "python3"
  },
  "language_info": {
   "file_extension": ".py",
   "mimetype": "text/x-python",
   "name": "python",
   "version": "3.8.12"
  },
  "metadata": {
   "interpreter": {
    "hash": "f8a2746d3ab3426f08e2132a9e8ad3a7daf862104ae8de960108f6fdcdfbaacf"
   }
  }
 },
 "nbformat": 4,
 "nbformat_minor": 4
}
